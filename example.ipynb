{
  "nbformat": 4,
  "nbformat_minor": 0,
  "metadata": {
    "colab": {
      "provenance": [],
      "collapsed_sections": [
        "nsCwTywlLWNx",
        "YBUT2JnnMf9q"
      ]
    },
    "kernelspec": {
      "name": "python3",
      "display_name": "Python 3"
    },
    "language_info": {
      "name": "python"
    }
  },
  "cells": [
    {
      "cell_type": "code",
      "source": [
        "import gdown\n",
        "import pickle as p\n",
        "import pandas as pd"
      ],
      "metadata": {
        "id": "xqsAgtS5LV6C"
      },
      "execution_count": 1,
      "outputs": []
    },
    {
      "cell_type": "markdown",
      "source": [
        "# Github repository"
      ],
      "metadata": {
        "id": "6JgAkgJpLRlX"
      }
    },
    {
      "cell_type": "code",
      "execution_count": 3,
      "metadata": {
        "colab": {
          "base_uri": "https://localhost:8080/"
        },
        "id": "_-upIlJyK2tQ",
        "outputId": "fb7c21db-160e-4aef-9bb8-89a75fe1c50c"
      },
      "outputs": [
        {
          "output_type": "stream",
          "name": "stdout",
          "text": [
            "Cloning into 'MacedonianHyphenate'...\n",
            "remote: Enumerating objects: 55, done.\u001b[K\n",
            "remote: Counting objects: 100% (55/55), done.\u001b[K\n",
            "remote: Compressing objects: 100% (41/41), done.\u001b[K\n",
            "remote: Total 55 (delta 21), reused 40 (delta 13), pack-reused 0\u001b[K\n",
            "Unpacking objects: 100% (55/55), 16.04 KiB | 782.00 KiB/s, done.\n"
          ]
        }
      ],
      "source": [
        "!git clone https://github.com/MajaMitreska/MacedonianHyphenate.git"
      ]
    },
    {
      "cell_type": "code",
      "source": [
        "%cd /content/MacedonianHyphenate"
      ],
      "metadata": {
        "colab": {
          "base_uri": "https://localhost:8080/"
        },
        "id": "wfvNyKKjLDK0",
        "outputId": "ab248770-db6b-4d7d-fcfa-bc256e824c83"
      },
      "execution_count": 4,
      "outputs": [
        {
          "output_type": "stream",
          "name": "stdout",
          "text": [
            "/content/MacedonianHyphenate\n"
          ]
        }
      ]
    },
    {
      "cell_type": "markdown",
      "source": [
        "#Syllables splitting"
      ],
      "metadata": {
        "id": "wZOgtl4jW4we"
      }
    },
    {
      "cell_type": "code",
      "source": [
        "import syllables\n",
        "from syllables import Syllables\n",
        "splitter = Syllables()"
      ],
      "metadata": {
        "id": "kGYS3p1-tSOj"
      },
      "execution_count": 5,
      "outputs": []
    },
    {
      "cell_type": "code",
      "source": [
        "from phoneme_sonority_sequencing import PhonemeSonoritySequencing\n",
        "from morpheme_sonority_sequencing import MorphemeSonoritySequencing\n",
        "from rule_based_morpheme_syllabification import RuleBasedMorphemeSyllabification\n",
        "from rule_based_phoneme_syllabification import RuleBasedPhonemeSyllabification\n",
        "from syllables import Syllables"
      ],
      "metadata": {
        "id": "Szc83-d5hGxx"
      },
      "execution_count": 8,
      "outputs": []
    },
    {
      "cell_type": "code",
      "source": [
        "phoneme_rule_based_splitter = RuleBasedPhonemeSyllabification()\n",
        "morpheme_rule_based_splitter = RuleBasedMorphemeSyllabification()\n",
        "phoneme_SSP_splitter = PhonemeSonoritySequencing()\n",
        "morpheme_SSP_splitter = MorphemeSonoritySequencing()\n"
      ],
      "metadata": {
        "id": "qJpF9rx4hK0K"
      },
      "execution_count": 9,
      "outputs": []
    },
    {
      "cell_type": "code",
      "source": [
        "word = \"поопштословенска\"\n",
        "print(phoneme_rule_based_splitter.split(word))\n",
        "print(morpheme_rule_based_splitter.split(word))\n",
        "print(phoneme_SSP_splitter.word_to_phoneme_SSP(word))\n",
        "print(morpheme_SSP_splitter.word_to_morpheme_SSP(word))\n",
        "splitter.split(word)"
      ],
      "metadata": {
        "colab": {
          "base_uri": "https://localhost:8080/"
        },
        "id": "XzVnI5AJhSPl",
        "outputId": "71d84884-bc81-4e01-e10d-d69a9f244268"
      },
      "execution_count": 10,
      "outputs": [
        {
          "output_type": "stream",
          "name": "stdout",
          "text": [
            "по-оп-штос-ло-вен-ска\n",
            "по-оп-што-сло-вен-ска, по-оп-штос-ло-вен-ска\n",
            "по-оп-штос-ло-венс-ка\n",
            "по-оп-што-сло-венс-ка\n"
          ]
        },
        {
          "output_type": "execute_result",
          "data": {
            "text/plain": [
              "{'Phoneme Rule-Based Syllables': 'по-оп-штос-ло-вен-ска',\n",
              " 'Morpheme Rule-Based Syllables': 'по-оп-што-сло-вен-ска, по-оп-штос-ло-вен-ска',\n",
              " 'Phoneme Sonority Syllables': 'по-оп-штос-ло-венс-ка',\n",
              " 'Morpheme Sonority Syllables': 'по-оп-што-сло-венс-ка'}"
            ]
          },
          "metadata": {},
          "execution_count": 10
        }
      ]
    },
    {
      "cell_type": "code",
      "source": [
        "splitter.split(\"суштество\")"
      ],
      "metadata": {
        "colab": {
          "base_uri": "https://localhost:8080/"
        },
        "id": "_lN39dasheIF",
        "outputId": "26038700-5501-4cce-fff7-55d271bd4d12"
      },
      "execution_count": 11,
      "outputs": [
        {
          "output_type": "execute_result",
          "data": {
            "text/plain": [
              "{'Phoneme Rule-Based Syllables': 'суш-те-ство',\n",
              " 'Morpheme Rule-Based Syllables': 'суш-те-ство',\n",
              " 'Phoneme Sonority Syllables': 'суш-тес-тво',\n",
              " 'Morpheme Sonority Syllables': 'суш-те-ство'}"
            ]
          },
          "metadata": {},
          "execution_count": 11
        }
      ]
    },
    {
      "cell_type": "code",
      "source": [
        "splitter.split(\"аура\")"
      ],
      "metadata": {
        "colab": {
          "base_uri": "https://localhost:8080/"
        },
        "id": "BrVGR3CwZ0fW",
        "outputId": "9b0c834f-2695-4e2c-e26c-f04a285b9c5e"
      },
      "execution_count": 12,
      "outputs": [
        {
          "output_type": "execute_result",
          "data": {
            "text/plain": [
              "{'Phoneme Rule-Based Syllables': 'а-у-ра',\n",
              " 'Morpheme Rule-Based Syllables': 'а-у-ра',\n",
              " 'Phoneme Sonority Syllables': 'а-у-ра',\n",
              " 'Morpheme Sonority Syllables': 'а-у-ра'}"
            ]
          },
          "metadata": {},
          "execution_count": 12
        }
      ]
    },
    {
      "cell_type": "code",
      "source": [
        "splitter.split(\"единствениот\")"
      ],
      "metadata": {
        "colab": {
          "base_uri": "https://localhost:8080/"
        },
        "id": "WqEPIJMqGzWb",
        "outputId": "9d0adf66-e306-49a8-b492-1ea8f74965a0"
      },
      "execution_count": 13,
      "outputs": [
        {
          "output_type": "execute_result",
          "data": {
            "text/plain": [
              "{'Phoneme Rule-Based Syllables': 'е-дин-ствен-и-от, е-дин-стве-ни-от',\n",
              " 'Morpheme Rule-Based Syllables': 'е-дин-ствен-и-от',\n",
              " 'Phoneme Sonority Syllables': 'е-динс-тве-ни-от',\n",
              " 'Morpheme Sonority Syllables': 'е-дин-ствен-и-от'}"
            ]
          },
          "metadata": {},
          "execution_count": 13
        }
      ]
    },
    {
      "cell_type": "code",
      "source": [
        "splitter.split(\"здравствен\")"
      ],
      "metadata": {
        "colab": {
          "base_uri": "https://localhost:8080/"
        },
        "id": "pCTM_U5bIGoh",
        "outputId": "2cab6096-b0ad-4288-865f-f3ccc60b3037"
      },
      "execution_count": 14,
      "outputs": [
        {
          "output_type": "execute_result",
          "data": {
            "text/plain": [
              "{'Phoneme Rule-Based Syllables': 'здрав-ствен, здрав-ствен',\n",
              " 'Morpheme Rule-Based Syllables': 'здрав-ствен',\n",
              " 'Phoneme Sonority Syllables': 'здравс-твен',\n",
              " 'Morpheme Sonority Syllables': 'здрав-ствен'}"
            ]
          },
          "metadata": {},
          "execution_count": 14
        }
      ]
    },
    {
      "cell_type": "code",
      "source": [
        "splitter.split(\"авионски\")"
      ],
      "metadata": {
        "colab": {
          "base_uri": "https://localhost:8080/"
        },
        "id": "oOUXbHEiezM3",
        "outputId": "f89a1a35-68a1-4689-b681-199e95d493de"
      },
      "execution_count": 15,
      "outputs": [
        {
          "output_type": "execute_result",
          "data": {
            "text/plain": [
              "{'Phoneme Rule-Based Syllables': 'а-ви-он-ски',\n",
              " 'Morpheme Rule-Based Syllables': 'а-ви-он-ски',\n",
              " 'Phoneme Sonority Syllables': 'а-ви-онс-ки',\n",
              " 'Morpheme Sonority Syllables': 'а-ви-он-ски'}"
            ]
          },
          "metadata": {},
          "execution_count": 15
        }
      ]
    },
    {
      "cell_type": "code",
      "source": [
        "splitter.split(\"сигнификантност\")"
      ],
      "metadata": {
        "colab": {
          "base_uri": "https://localhost:8080/"
        },
        "id": "du3hjViTP652",
        "outputId": "4b94d616-107f-4eb7-b469-1c994288d62c"
      },
      "execution_count": 16,
      "outputs": [
        {
          "output_type": "execute_result",
          "data": {
            "text/plain": [
              "{'Phoneme Rule-Based Syllables': 'сиг-ни-фи-кан-тност',\n",
              " 'Morpheme Rule-Based Syllables': 'сиг-ни-фи-кан-тност',\n",
              " 'Phoneme Sonority Syllables': 'сиг-ни-фи-кант-ност',\n",
              " 'Morpheme Sonority Syllables': 'сиг-ни-фи-кант-ност'}"
            ]
          },
          "metadata": {},
          "execution_count": 16
        }
      ]
    },
    {
      "cell_type": "code",
      "source": [
        "splitter.split(\"аурора\")"
      ],
      "metadata": {
        "colab": {
          "base_uri": "https://localhost:8080/"
        },
        "id": "v7HNoT_rbUsI",
        "outputId": "6ef9e203-0971-4468-9501-e353d8b1808f"
      },
      "execution_count": 17,
      "outputs": [
        {
          "output_type": "execute_result",
          "data": {
            "text/plain": [
              "{'Phoneme Rule-Based Syllables': 'а-у-ро-ра',\n",
              " 'Morpheme Rule-Based Syllables': 'а-у-ро-ра',\n",
              " 'Phoneme Sonority Syllables': 'а-у-ро-ра',\n",
              " 'Morpheme Sonority Syllables': 'а-у-ро-ра'}"
            ]
          },
          "metadata": {},
          "execution_count": 17
        }
      ]
    },
    {
      "cell_type": "code",
      "source": [
        "splitter.split('противавионски')"
      ],
      "metadata": {
        "colab": {
          "base_uri": "https://localhost:8080/"
        },
        "id": "bDDwBbZSXzGP",
        "outputId": "07ce5e39-bb71-4ac2-a0a9-482ba91b7af7"
      },
      "execution_count": 18,
      "outputs": [
        {
          "output_type": "execute_result",
          "data": {
            "text/plain": [
              "{'Phoneme Rule-Based Syllables': 'про-ти-ва-ви-он-ски',\n",
              " 'Morpheme Rule-Based Syllables': 'про-ти-ва-ви-он-ски',\n",
              " 'Phoneme Sonority Syllables': 'про-ти-ва-ви-онс-ки',\n",
              " 'Morpheme Sonority Syllables': 'про-тив-а-ви-он-ски'}"
            ]
          },
          "metadata": {},
          "execution_count": 18
        }
      ]
    },
    {
      "cell_type": "code",
      "source": [
        "splitter.split('антропологија')"
      ],
      "metadata": {
        "colab": {
          "base_uri": "https://localhost:8080/"
        },
        "id": "JmT8RHdrarHs",
        "outputId": "82b3582d-3d81-43eb-ac89-51551f9b2873"
      },
      "execution_count": 19,
      "outputs": [
        {
          "output_type": "execute_result",
          "data": {
            "text/plain": [
              "{'Phoneme Rule-Based Syllables': 'ан-тро-по-ло-ги-ја',\n",
              " 'Morpheme Rule-Based Syllables': 'ан-тро-по-ло-ги-ја',\n",
              " 'Phoneme Sonority Syllables': 'ант-ро-по-ло-ги-ја',\n",
              " 'Morpheme Sonority Syllables': 'ант-ро-по-ло-ги-ја'}"
            ]
          },
          "metadata": {},
          "execution_count": 19
        }
      ]
    },
    {
      "cell_type": "code",
      "source": [
        "splitter.split('претчувство')"
      ],
      "metadata": {
        "colab": {
          "base_uri": "https://localhost:8080/"
        },
        "id": "AphwZFIla125",
        "outputId": "de0aee42-e785-4f36-dc86-093385bc34ea"
      },
      "execution_count": 20,
      "outputs": [
        {
          "output_type": "execute_result",
          "data": {
            "text/plain": [
              "{'Phoneme Rule-Based Syllables': 'прет-чув-ство',\n",
              " 'Morpheme Rule-Based Syllables': 'пре-тчув-ство',\n",
              " 'Phoneme Sonority Syllables': 'прет-чувс-тво',\n",
              " 'Morpheme Sonority Syllables': 'прет-чув-ство'}"
            ]
          },
          "metadata": {},
          "execution_count": 20
        }
      ]
    },
    {
      "cell_type": "code",
      "source": [
        "splitter.split('иако')"
      ],
      "metadata": {
        "colab": {
          "base_uri": "https://localhost:8080/"
        },
        "id": "v6MFzc0Sa_5l",
        "outputId": "ec44a8df-f488-4357-a875-0aa7ca357dfa"
      },
      "execution_count": 21,
      "outputs": [
        {
          "output_type": "execute_result",
          "data": {
            "text/plain": [
              "{'Phoneme Rule-Based Syllables': 'и-а-ко',\n",
              " 'Morpheme Rule-Based Syllables': 'и-а-ко',\n",
              " 'Phoneme Sonority Syllables': 'и-а-ко',\n",
              " 'Morpheme Sonority Syllables': 'и-а-ко'}"
            ]
          },
          "metadata": {},
          "execution_count": 21
        }
      ]
    },
    {
      "cell_type": "code",
      "source": [
        "splitter.split('смртта')"
      ],
      "metadata": {
        "colab": {
          "base_uri": "https://localhost:8080/"
        },
        "id": "qNvoiLLzbGOE",
        "outputId": "019cf1b8-2e2e-4ee2-ddd1-d621abb94418"
      },
      "execution_count": 22,
      "outputs": [
        {
          "output_type": "execute_result",
          "data": {
            "text/plain": [
              "{'Phoneme Rule-Based Syllables': 'смрт-та',\n",
              " 'Morpheme Rule-Based Syllables': 'смрт-та',\n",
              " 'Phoneme Sonority Syllables': 'смрт-та',\n",
              " 'Morpheme Sonority Syllables': 'смрт-та'}"
            ]
          },
          "metadata": {},
          "execution_count": 22
        }
      ]
    },
    {
      "cell_type": "code",
      "source": [
        "splitter.split(\"'ржен\")"
      ],
      "metadata": {
        "colab": {
          "base_uri": "https://localhost:8080/"
        },
        "id": "zThxOmjObKH-",
        "outputId": "670fb601-bf37-4063-c5ce-ab0e8ece32e9"
      },
      "execution_count": 23,
      "outputs": [
        {
          "output_type": "execute_result",
          "data": {
            "text/plain": [
              "{'Phoneme Rule-Based Syllables': \"'р-жен\",\n",
              " 'Morpheme Rule-Based Syllables': \"'р-жен\",\n",
              " 'Phoneme Sonority Syllables': \"'р-жен\",\n",
              " 'Morpheme Sonority Syllables': \"'р-жен\"}"
            ]
          },
          "metadata": {},
          "execution_count": 23
        }
      ]
    },
    {
      "cell_type": "code",
      "source": [
        "splitter.split(\"пре'ржен\")"
      ],
      "metadata": {
        "colab": {
          "base_uri": "https://localhost:8080/"
        },
        "id": "hakZmWqBbSBf",
        "outputId": "d4d82a4e-0f90-495a-d158-9cedc05fbf8e"
      },
      "execution_count": 24,
      "outputs": [
        {
          "output_type": "execute_result",
          "data": {
            "text/plain": [
              "{'Phoneme Rule-Based Syllables': \"пре-'р-жен\",\n",
              " 'Morpheme Rule-Based Syllables': \"пре-'р-жен\",\n",
              " 'Phoneme Sonority Syllables': \"пре-'р-жен\",\n",
              " 'Morpheme Sonority Syllables': \"пре-'р-жен\"}"
            ]
          },
          "metadata": {},
          "execution_count": 24
        }
      ]
    },
    {
      "cell_type": "code",
      "source": [
        "splitter.split(\"препроизводствениот\")"
      ],
      "metadata": {
        "colab": {
          "base_uri": "https://localhost:8080/"
        },
        "id": "j_-1QLvVfL34",
        "outputId": "e5619bda-58db-4a0d-dc78-a11854df9559"
      },
      "execution_count": 26,
      "outputs": [
        {
          "output_type": "execute_result",
          "data": {
            "text/plain": [
              "{'Phoneme Rule-Based Syllables': 'преп-ро-из-вод-ствен-и-от, преп-ро-из-вод-стве-ни-от',\n",
              " 'Morpheme Rule-Based Syllables': 'пре-про-из-вод-ствен-и-от',\n",
              " 'Phoneme Sonority Syllables': 'преп-роиз-водс-тве-ни-от',\n",
              " 'Morpheme Sonority Syllables': 'пре-про-из-вод-ствен-и-от'}"
            ]
          },
          "metadata": {},
          "execution_count": 26
        }
      ]
    },
    {
      "cell_type": "code",
      "source": [
        "splitter.split(\"ништожество\")"
      ],
      "metadata": {
        "colab": {
          "base_uri": "https://localhost:8080/"
        },
        "id": "9CQdrncTiK_7",
        "outputId": "1863132e-f775-49e2-ddce-2f363590de8c"
      },
      "execution_count": 27,
      "outputs": [
        {
          "output_type": "execute_result",
          "data": {
            "text/plain": [
              "{'Phoneme Rule-Based Syllables': 'ниш-то-же-ство',\n",
              " 'Morpheme Rule-Based Syllables': 'ни-што-же-ство, ни-што-же-ство',\n",
              " 'Phoneme Sonority Syllables': 'ниш-то-жес-тво',\n",
              " 'Morpheme Sonority Syllables': 'ни-што-же-ство'}"
            ]
          },
          "metadata": {},
          "execution_count": 27
        }
      ]
    }
  ]
}